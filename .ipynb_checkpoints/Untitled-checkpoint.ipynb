{
 "cells": [
  {
   "cell_type": "code",
   "execution_count": 2,
   "metadata": {
    "collapsed": false
   },
   "outputs": [],
   "source": [
    "import urllib\n",
    "import json\n",
    "import pandas\n",
    "\n",
    "def get_detail_url(gameid):\n",
    "    return \"http://live.ktgsports.com/data/CU_WMCC2016P/104-game-{gameid}.html\".format(gameid=gameid)\n",
    "def get_image_url(gameid,direction,stone):\n",
    "    return \"http://live.ktgsports.com/data/CU_WMCC2016P/play_by_play/{gameid}/{direction}-{stone}.jpg\".format(gameid=gameid, direction=direction, stone=stone)"
   ]
  },
  {
   "cell_type": "code",
   "execution_count": 6,
   "metadata": {
    "collapsed": false
   },
   "outputs": [],
   "source": [
    "for i in range(980, 1050):\n",
    "    urllib.request.urlretrieve(get_detail_url(i),\"test{num}.json\".format(num=i))"
   ]
  },
  {
   "cell_type": "code",
   "execution_count": 5,
   "metadata": {
    "collapsed": false,
    "scrolled": true
   },
   "outputs": [
    {
     "ename": "SyntaxError",
     "evalue": "unexpected EOF while parsing (<ipython-input-5-5e80e0812dc6>, line 5)",
     "output_type": "error",
     "traceback": [
      "\u001b[1;36m  File \u001b[1;32m\"<ipython-input-5-5e80e0812dc6>\"\u001b[1;36m, line \u001b[1;32m5\u001b[0m\n\u001b[1;33m    urllib.request.urlretrieve(get_image_url(game, direction, stone),\"test{game}_{direction}_{stone}.jpg\".format(game=game, direction=direction, stone=stone))\u001b[0m\n\u001b[1;37m                                                                                                                                                              ^\u001b[0m\n\u001b[1;31mSyntaxError\u001b[0m\u001b[1;31m:\u001b[0m unexpected EOF while parsing\n"
     ]
    }
   ],
   "source": [
    "for game in range(980,1050):\n",
    "    for direction in range(1,12):\n",
    "        for stone in range(1,17):\n",
    "            try:\n",
    "                urllib.request.urlretrieve(get_image_url(game, direction, stone),\"test{game}_{direction}_{stone}.jpg\".format(game=game, direction=direction, stone=stone))"
   ]
  },
  {
   "cell_type": "code",
   "execution_count": null,
   "metadata": {
    "collapsed": true
   },
   "outputs": [],
   "source": []
  }
 ],
 "metadata": {
  "kernelspec": {
   "display_name": "Python 3",
   "language": "python",
   "name": "python3"
  },
  "language_info": {
   "codemirror_mode": {
    "name": "ipython",
    "version": 3
   },
   "file_extension": ".py",
   "mimetype": "text/x-python",
   "name": "python",
   "nbconvert_exporter": "python",
   "pygments_lexer": "ipython3",
   "version": "3.5.1"
  }
 },
 "nbformat": 4,
 "nbformat_minor": 0
}
