{
 "cells": [
  {
   "cell_type": "code",
   "execution_count": 1,
   "metadata": {
    "collapsed": false
   },
   "outputs": [],
   "source": [
    "import urllib\n",
    "import json\n",
    "import pandas\n",
    "\n",
    "def get_detail_url(gameid):\n",
    "    return \"http://live.ktgsports.com/data/CU_WMCC2016P/104-game-{gameid}.html\".format(gameid=gameid)\n",
    "def get_image_url(gameid,direction,stone):\n",
    "    return \"http://live.ktgsports.com/data/CU_WMCC2016P/play_by_play/{gameid}/{direction}-{stone}.jpg\".format(gameid=gameid, direction=direction, stone=stone)"
   ]
  },
  {
   "cell_type": "code",
   "execution_count": 6,
   "metadata": {
    "collapsed": false
   },
   "outputs": [],
   "source": [
    "for i in range(980, 1050):\n",
    "    urllib.request.urlretrieve(get_detail_url(i),\"test{num}.json\".format(num=i))"
   ]
  },
  {
   "cell_type": "code",
   "execution_count": 2,
   "metadata": {
    "collapsed": false,
    "scrolled": true
   },
   "outputs": [],
   "source": [
    "for game in range(1020,1050):\n",
    "    for direction in range(1,12):\n",
    "        for stone in range(1,17):\n",
    "            try:\n",
    "                urllib.request.urlretrieve(get_image_url(game, direction, stone),\"./Images/test{game}_{direction}_{stone}.jpg\".format(game=game, direction=direction, stone=stone))\n",
    "            except:\n",
    "                pass"
   ]
  },
  {
   "cell_type": "code",
   "execution_count": null,
   "metadata": {
    "collapsed": true
   },
   "outputs": [],
   "source": []
  }
 ],
 "metadata": {
  "kernelspec": {
   "display_name": "Python 3",
   "language": "python",
   "name": "python3"
  },
  "language_info": {
   "codemirror_mode": {
    "name": "ipython",
    "version": 3
   },
   "file_extension": ".py",
   "mimetype": "text/x-python",
   "name": "python",
   "nbconvert_exporter": "python",
   "pygments_lexer": "ipython3",
   "version": "3.5.1"
  }
 },
 "nbformat": 4,
 "nbformat_minor": 0
}
